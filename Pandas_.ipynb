{
 "cells": [
  {
   "cell_type": "code",
   "execution_count": 13,
   "id": "5354d11e",
   "metadata": {},
   "outputs": [
    {
     "name": "stdout",
     "output_type": "stream",
     "text": [
      "<class 'pandas.core.frame.DataFrame'>\n",
      "(3313, 6)\n",
      "Index(['country', 'continent', 'year', 'lifeExp', 'pop', 'gdpPercap'], dtype='object')\n",
      "country       object\n",
      "continent     object\n",
      "year           int64\n",
      "lifeExp      float64\n",
      "pop            int64\n",
      "gdpPercap    float64\n",
      "dtype: object\n",
      "<class 'pandas.core.frame.DataFrame'>\n",
      "RangeIndex: 3313 entries, 0 to 3312\n",
      "Data columns (total 6 columns):\n",
      " #   Column     Non-Null Count  Dtype  \n",
      "---  ------     --------------  -----  \n",
      " 0   country    3313 non-null   object \n",
      " 1   continent  3012 non-null   object \n",
      " 2   year       3313 non-null   int64  \n",
      " 3   lifeExp    3313 non-null   float64\n",
      " 4   pop        3313 non-null   int64  \n",
      " 5   gdpPercap  3313 non-null   float64\n",
      "dtypes: float64(2), int64(2), object(2)\n",
      "memory usage: 155.4+ KB\n",
      "None\n"
     ]
    }
   ],
   "source": [
    "import pandas as pd\n",
    "\n",
    "\n",
    "file = pd.read_excel('/home/devika/Downloads/gapminder.xlsx')\n",
    "print(type(file))\n",
    "print(file.shape)\n",
    "print(file.columns)\n",
    "print(file.dtypes)\n",
    "print(file.info())"
   ]
  },
  {
   "cell_type": "code",
   "execution_count": 20,
   "id": "8df614cd",
   "metadata": {},
   "outputs": [
    {
     "name": "stdout",
     "output_type": "stream",
     "text": [
      "0    Afghanistan\n",
      "1    Afghanistan\n",
      "2    Afghanistan\n",
      "3    Afghanistan\n",
      "4    Afghanistan\n",
      "Name: country, dtype: object\n",
      "3308    Zimbabwe\n",
      "3309    Zimbabwe\n",
      "3310    Zimbabwe\n",
      "3311    Zimbabwe\n",
      "3312    Zimbabwe\n",
      "Name: country, dtype: object\n",
      "       country continent   gdpPercap\n",
      "0  Afghanistan      Asia  779.445314\n",
      "1  Afghanistan      Asia  820.853030\n",
      "2  Afghanistan      Asia  853.100710\n",
      "3  Afghanistan      Asia  836.197138\n",
      "4  Afghanistan      Asia  739.981106\n"
     ]
    }
   ],
   "source": [
    "country_df=file['country']\n",
    "print(country_df.head())\n",
    "print(country_df.tail())\n",
    "subset=file[['country','continent','gdpPercap']]\n",
    "print(subset.head())"
   ]
  },
  {
   "cell_type": "code",
   "execution_count": 29,
   "id": "66cd639f",
   "metadata": {},
   "outputs": [
    {
     "name": "stdout",
     "output_type": "stream",
     "text": [
      "country      Afghanistan\n",
      "continent           Asia\n",
      "year                1952\n",
      "lifeExp           28.801\n",
      "pop              8425333\n",
      "gdpPercap     779.445314\n",
      "Name: 0, dtype: object\n",
      "country        Australia\n",
      "continent            NaN\n",
      "year                1977\n",
      "lifeExp            73.49\n",
      "pop             14074100\n",
      "gdpPercap    18334.19751\n",
      "Name: 99, dtype: object\n",
      "country        Zimbabwe\n",
      "continent        Africa\n",
      "year               2007\n",
      "lifeExp          43.487\n",
      "pop            12311143\n",
      "gdpPercap    469.709298\n",
      "Name: 3312, dtype: object\n",
      "       country continent  year  lifeExp       pop   gdpPercap\n",
      "3312  Zimbabwe    Africa  2007   43.487  12311143  469.709298\n",
      "<class 'pandas.core.series.Series'>\n",
      "<class 'pandas.core.frame.DataFrame'>\n",
      "         country continent  year  lifeExp       pop     gdpPercap\n",
      "0    Afghanistan      Asia  1952   28.801   8425333    779.445314\n",
      "99     Australia       NaN  1977   73.490  14074100  18334.197510\n",
      "999      Finland    Europe  1963   69.160   4523309   9612.397646\n"
     ]
    }
   ],
   "source": [
    "print(file.loc[0])\n",
    "print(file.loc[99])\n",
    "last_=file.shape[0]\n",
    "print(file.loc[last_-1])\n",
    "print(file.tail(n=1))\n",
    "print(type(file.loc[0]))\n",
    "print(type(file.tail(n=1)))\n",
    "print(file.loc[[0,99,999]])      "
   ]
  },
  {
   "cell_type": "code",
   "execution_count": 30,
   "id": "f0c32e4f",
   "metadata": {},
   "outputs": [
    {
     "name": "stdout",
     "output_type": "stream",
     "text": [
      "country      Afghanistan\n",
      "continent           Asia\n",
      "year                1952\n",
      "lifeExp           28.801\n",
      "pop              8425333\n",
      "gdpPercap     779.445314\n",
      "Name: 0, dtype: object\n",
      "country        Australia\n",
      "continent            NaN\n",
      "year                1977\n",
      "lifeExp            73.49\n",
      "pop             14074100\n",
      "gdpPercap    18334.19751\n",
      "Name: 99, dtype: object\n",
      "country        Zimbabwe\n",
      "continent        Africa\n",
      "year               2007\n",
      "lifeExp          43.487\n",
      "pop            12311143\n",
      "gdpPercap    469.709298\n",
      "Name: 3312, dtype: object\n",
      "       country continent  year  lifeExp       pop   gdpPercap\n",
      "3312  Zimbabwe    Africa  2007   43.487  12311143  469.709298\n",
      "<class 'pandas.core.series.Series'>\n",
      "<class 'pandas.core.frame.DataFrame'>\n",
      "         country continent  year  lifeExp       pop     gdpPercap\n",
      "0    Afghanistan      Asia  1952   28.801   8425333    779.445314\n",
      "99     Australia       NaN  1977   73.490  14074100  18334.197510\n",
      "999      Finland    Europe  1963   69.160   4523309   9612.397646\n"
     ]
    }
   ],
   "source": [
    "print(file.iloc[0])\n",
    "print(file.iloc[99])\n",
    "print(file.iloc[-1])\n",
    "print(file.tail(n=1))\n",
    "print(type(file.iloc[0]))\n",
    "print(type(file.tail(n=1)))\n",
    "print(file.iloc[[0,99,999]])    "
   ]
  },
  {
   "cell_type": "code",
   "execution_count": 34,
   "id": "2ff39d30",
   "metadata": {},
   "outputs": [
    {
     "name": "stdout",
     "output_type": "stream",
     "text": [
      "   year   gdpPercap\n",
      "0  1952  779.445314\n",
      "1  1957  820.853030\n",
      "2  1962  853.100710\n",
      "3  1967  836.197138\n",
      "4  1972  739.981106\n",
      "   year       pop   gdpPercap\n",
      "0  1952   8425333  779.445314\n",
      "1  1957   9240934  820.853030\n",
      "2  1962  10267083  853.100710\n",
      "3  1967  11537966  836.197138\n",
      "4  1972  13079460  739.981106\n"
     ]
    }
   ],
   "source": [
    "subset=file.loc[:,['year','gdpPercap']]\n",
    "print(subset.head())\n",
    "\n",
    "subset_=file.iloc[:,[2,4,-1]]\n",
    "print(subset_.head())"
   ]
  },
  {
   "cell_type": "code",
   "execution_count": 7,
   "id": "cdc894ff",
   "metadata": {},
   "outputs": [
    {
     "name": "stdout",
     "output_type": "stream",
     "text": [
      "          country continent  year  lifeExp       pop\n",
      "0     Afghanistan      Asia  1952   28.801   8425333\n",
      "1     Afghanistan      Asia  1957   30.332   9240934\n",
      "2     Afghanistan      Asia  1962   31.997  10267083\n",
      "3     Afghanistan      Asia  1967   34.020  11537966\n",
      "4     Afghanistan      Asia  1972   36.088  13079460\n",
      "...           ...       ...   ...      ...       ...\n",
      "3308     Zimbabwe    Africa  1987   62.351   9216418\n",
      "3309     Zimbabwe    Africa  1992   60.377  10704340\n",
      "3310     Zimbabwe    Africa  1997   46.809  11404948\n",
      "3311     Zimbabwe    Africa  2002   39.989  11926563\n",
      "3312     Zimbabwe    Africa  2007   43.487  12311143\n",
      "\n",
      "[3313 rows x 5 columns]\n",
      "     continent  year  lifeExp\n",
      "0         Asia  1952   28.801\n",
      "1         Asia  1957   30.332\n",
      "2         Asia  1962   31.997\n",
      "3         Asia  1967   34.020\n",
      "4         Asia  1972   36.088\n",
      "...        ...   ...      ...\n",
      "3308    Africa  1987   62.351\n",
      "3309    Africa  1992   60.377\n",
      "3310    Africa  1997   46.809\n",
      "3311    Africa  2002   39.989\n",
      "3312    Africa  2007   43.487\n",
      "\n",
      "[3313 rows x 3 columns]\n",
      "     continent  lifeExp\n",
      "0         Asia   28.801\n",
      "1         Asia   30.332\n",
      "2         Asia   31.997\n",
      "3         Asia   34.020\n",
      "4         Asia   36.088\n",
      "...        ...      ...\n",
      "3308    Africa   62.351\n",
      "3309    Africa   60.377\n",
      "3310    Africa   46.809\n",
      "3311    Africa   39.989\n",
      "3312    Africa   43.487\n",
      "\n",
      "[3313 rows x 2 columns]\n"
     ]
    }
   ],
   "source": [
    "range_= list(range(5))\n",
    "subset=file.iloc[:,range_]\n",
    "print(subset)\n",
    "subset=file.iloc[:,1:4]\n",
    "print(subset)\n",
    "subset=file.iloc[:,1:5:2]\n",
    "print(subset)"
   ]
  },
  {
   "cell_type": "code",
   "execution_count": 11,
   "id": "383f6eba",
   "metadata": {},
   "outputs": [
    {
     "name": "stdout",
     "output_type": "stream",
     "text": [
      "Angola\n",
      "Angola\n",
      "       country  year       pop\n",
      "2  Afghanistan  1962  10267083\n",
      "4  Afghanistan  1972  13079460\n",
      "5  Afghanistan  1977  14880372\n",
      "       country  lifeExp\n",
      "2  Afghanistan   31.997\n",
      "4  Afghanistan   36.088\n",
      "5  Afghanistan   38.438\n"
     ]
    }
   ],
   "source": [
    "print(file.loc[42,'country'])\n",
    "print(file.iloc[42,0])\n",
    "print(file.iloc[[2,4,5],[0,2,4]])\n",
    "print(file.loc[[2,4,5],['country','lifeExp']])"
   ]
  },
  {
   "cell_type": "code",
   "execution_count": 12,
   "id": "bbfd5471",
   "metadata": {},
   "outputs": [
    {
     "name": "stdout",
     "output_type": "stream",
     "text": [
      "year\n",
      "1950    62.002568\n",
      "1951    65.904167\n",
      "1952    49.170708\n",
      "1953    66.674563\n",
      "1954    67.459817\n",
      "1955    67.806757\n",
      "1956    67.950637\n",
      "1957    51.614590\n",
      "1958    68.815936\n",
      "1959    68.226579\n",
      "1960    68.470837\n",
      "1961    68.862480\n",
      "1962    54.035234\n",
      "1963    69.595735\n",
      "1964    70.063105\n",
      "1965    70.259881\n",
      "1966    70.447526\n",
      "1967    56.263629\n",
      "1968    70.689081\n",
      "1969    70.653896\n",
      "1970    70.961141\n",
      "1971    71.103976\n",
      "1972    58.474481\n",
      "1973    71.500338\n",
      "1974    71.778504\n",
      "1975    71.939218\n",
      "1976    72.158050\n",
      "1977    60.429090\n",
      "1978    72.717567\n",
      "1979    73.018717\n",
      "1980    73.064524\n",
      "1981    73.337399\n",
      "1982    62.365871\n",
      "1983    73.787778\n",
      "1984    74.100741\n",
      "1985    74.112222\n",
      "1986    74.452222\n",
      "1987    63.984860\n",
      "1988    74.760000\n",
      "1989    74.924444\n",
      "1990    74.283438\n",
      "1991    74.374848\n",
      "1992    65.008443\n",
      "1993    74.324545\n",
      "1994    74.456667\n",
      "1995    74.552727\n",
      "1996    75.029394\n",
      "1997    65.873799\n",
      "1998    75.569697\n",
      "1999    75.703636\n",
      "2000    76.026364\n",
      "2001    76.257879\n",
      "2002    66.835695\n",
      "2003    76.586667\n",
      "2004    76.921562\n",
      "2005    76.718667\n",
      "2006    77.887778\n",
      "2007    67.868557\n",
      "Name: lifeExp, dtype: float64\n"
     ]
    }
   ],
   "source": [
    "print(file.groupby('year')['lifeExp'].mean())"
   ]
  },
  {
   "cell_type": "code",
   "execution_count": 13,
   "id": "d533be71",
   "metadata": {},
   "outputs": [
    {
     "name": "stdout",
     "output_type": "stream",
     "text": [
      "                  lifeExp     gdpPercap\n",
      "year continent                         \n",
      "1950 Africa     41.361500   1422.081643\n",
      "     Americas   57.976800   5331.664417\n",
      "     Asia       53.675000   1363.645814\n",
      "     Europe     65.755916   6804.996873\n",
      "     FSU        59.950000   3638.203164\n",
      "...                   ...           ...\n",
      "2007 Americas   73.426400   9965.129301\n",
      "     Asia       70.432146  14991.333285\n",
      "     Europe     77.299059  24174.152973\n",
      "     FSU        69.166333  12360.431827\n",
      "     Oceania    70.849333  10377.494935\n",
      "\n",
      "[285 rows x 2 columns]\n"
     ]
    },
    {
     "name": "stderr",
     "output_type": "stream",
     "text": [
      "/tmp/ipykernel_5556/42094941.py:1: FutureWarning: Indexing with multiple keys (implicitly converted to a tuple of keys) will be deprecated, use a list instead.\n",
      "  print(file.groupby(['year','continent'])['lifeExp','gdpPercap'].mean())\n"
     ]
    }
   ],
   "source": [
    "print(file.groupby(['year','continent'])['lifeExp','gdpPercap'].mean())"
   ]
  },
  {
   "cell_type": "code",
   "execution_count": 14,
   "id": "1b23fbff",
   "metadata": {},
   "outputs": [
    {
     "name": "stdout",
     "output_type": "stream",
     "text": [
      "continent\n",
      "Africa      52\n",
      "Americas    25\n",
      "Asia        41\n",
      "Europe      35\n",
      "FSU          6\n",
      "Oceania      3\n",
      "Name: country, dtype: int64\n"
     ]
    }
   ],
   "source": [
    "print(file.groupby('continent')['country'].nunique())"
   ]
  },
  {
   "cell_type": "code",
   "execution_count": 16,
   "id": "6e0ff91e",
   "metadata": {},
   "outputs": [
    {
     "name": "stdout",
     "output_type": "stream",
     "text": [
      "continent  country        \n",
      "Africa     Libya              13\n",
      "           Uganda             13\n",
      "           Algeria            12\n",
      "           Angola             12\n",
      "           Benin              12\n",
      "                              ..\n",
      "FSU        Lithuania          18\n",
      "           Kazakhstan          4\n",
      "Oceania    New Zealand        55\n",
      "           Fiji               10\n",
      "           Solomon Islands     9\n",
      "Name: country, Length: 162, dtype: int64\n"
     ]
    }
   ],
   "source": [
    "print(file.groupby('continent')['country'].value_counts())"
   ]
  },
  {
   "cell_type": "code",
   "execution_count": 2,
   "id": "a819ae02",
   "metadata": {},
   "outputs": [],
   "source": [
    "new_file=file[file['gdpPercap'] > file['gdpPercap'].mean()]"
   ]
  },
  {
   "cell_type": "code",
   "execution_count": 5,
   "id": "8ab132d0",
   "metadata": {},
   "outputs": [
    {
     "data": {
      "text/plain": [
       "[<matplotlib.lines.Line2D at 0x7f65a2e44f40>]"
      ]
     },
     "execution_count": 5,
     "metadata": {},
     "output_type": "execute_result"
    },
    {
     "data": {
      "image/png": "[encoded data removed]",
      "text/plain": [
       "<Figure size 640x480 with 1 Axes>"
      ]
     },
     "metadata": {},
     "output_type": "display_data"
    }
   ],
   "source": [
    "import matplotlib.pyplot as plt\n",
    "\n",
    "plt.plot(file['year'],file['gdpPercap'])"
   ]
  },
  {
   "cell_type": "code",
   "execution_count": 6,
   "id": "6bc55743",
   "metadata": {},
   "outputs": [
    {
     "name": "stdout",
     "output_type": "stream",
     "text": [
      "country      3313\n",
      "continent    3012\n",
      "year         3313\n",
      "lifeExp      3313\n",
      "pop          3313\n",
      "gdpPercap    3313\n",
      "dtype: int64\n"
     ]
    }
   ],
   "source": [
    "print(file.count())"
   ]
  },
  {
   "cell_type": "code",
   "execution_count": 8,
   "id": "69888102",
   "metadata": {},
   "outputs": [
    {
     "data": {
      "text/plain": [
       "country        0\n",
       "continent    301\n",
       "year           0\n",
       "lifeExp        0\n",
       "pop            0\n",
       "gdpPercap      0\n",
       "dtype: int64"
      ]
     },
     "execution_count": 8,
     "metadata": {},
     "output_type": "execute_result"
    }
   ],
   "source": [
    "file.isna().sum()"
   ]
  },
  {
   "cell_type": "code",
   "execution_count": 11,
   "id": "70f63276",
   "metadata": {},
   "outputs": [],
   "source": [
    "file=file.fillna(method='ffill')"
   ]
  },
  {
   "cell_type": "code",
   "execution_count": 18,
   "id": "a0c448f5",
   "metadata": {},
   "outputs": [
    {
     "data": {
      "text/plain": [
       "country      0\n",
       "continent    0\n",
       "year         0\n",
       "lifeExp      0\n",
       "pop          0\n",
       "gdpPercap    0\n",
       "dtype: int64"
      ]
     },
     "execution_count": 18,
     "metadata": {},
     "output_type": "execute_result"
    }
   ],
   "source": [
    "file.isna().sum()"
   ]
  },
  {
   "cell_type": "code",
   "execution_count": 17,
   "id": "cbee55e2",
   "metadata": {},
   "outputs": [],
   "source": [
    "file=file.dropna()"
   ]
  },
  {
   "cell_type": "code",
   "execution_count": null,
   "id": "6c24812e",
   "metadata": {},
   "outputs": [],
   "source": []
  }
 ],
 "metadata": {
  "kernelspec": {
   "display_name": "Python 3 (ipykernel)",
   "language": "python",
   "name": "python3"
  },
  "language_info": {
   "codemirror_mode": {
    "name": "ipython",
    "version": 3
   },
   "file_extension": ".py",
   "mimetype": "text/x-python",
   "name": "python",
   "nbconvert_exporter": "python",
   "pygments_lexer": "ipython3",
   "version": "3.10.12"
  }
 },
 "nbformat": 4,
 "nbformat_minor": 5
}
